{
 "cells": [
  {
   "cell_type": "markdown",
   "id": "11148c5c-1530-4bda-8509-8839e0c3b8dc",
   "metadata": {},
   "source": [
    "1:-\n",
    "  Part A : \n",
    "        The below given code returns boolean value indicating whether the mpin is commonly used."
   ]
  },
  {
   "cell_type": "code",
   "execution_count": 1,
   "id": "3e87dd44-ab16-4a06-9460-c328969a4f10",
   "metadata": {},
   "outputs": [],
   "source": [
    "def is_common_pin(pin):\n",
    "    common_pins = [\n",
    "        \"1111\", \"1234\", \"4321\", \"7777\", \"1212\", \"2020\", \"0000\", \"1122\", \"2211\",\n",
    "        \"3333\", \"4444\", \"5555\", \"6666\", \"8888\", \"9999\", \"1010\", \"1100\", \"1001\",\n",
    "        \"2002\", \"3003\", \"9876\", \"9990\", \"1221\", \"2112\"\n",
    "      ]\n",
    "    return pin in common_pins\n"
   ]
  },
  {
   "cell_type": "markdown",
   "id": "ae2aa06e-17db-4f78-8a13-fd8684f7d907",
   "metadata": {},
   "source": [
    "2&3:-\n",
    "Part B,C:\n",
    "- This part takes the users demographics such as user birthday, spouse birthday, anniversary as the inputs and uses them in strength assessment.\n",
    "- It calculates the strength of the pin as \"Weak\" or \"Strong\" based on the identified weaknesses.\n",
    "- If the PIN is weak, it returns a list of reasons for weakness and If the pin is strong, it returns an empty list ([]) to indicate no weaknesses."
   ]
  },
  {
   "cell_type": "code",
   "execution_count": 3,
   "id": "89ca9ad1-49c4-4abb-872c-1b29cc34252f",
   "metadata": {},
   "outputs": [],
   "source": [
    "def assess_pin_strength(pin, dob_self, dob_spouse, anniversary):\n",
    "  weak_reasons = []\n",
    "\n",
    "  if is_common_pin(pin): \n",
    "    weak_reasons.append(\"COMMONLY_USED\") \n",
    "\n",
    "  if pin in dob_self:\n",
    "    weak_reasons.append(\"DEMOGRAPHIC_DOB_SELF\")\n",
    "\n",
    "  if pin in dob_spouse:\n",
    "    weak_reasons.append(\"DEMOGRAPHIC_DOB_SPOUSE\")\n",
    "\n",
    "  if pin in anniversary:\n",
    "    weak_reasons.append(\"DEMOGRAPHIC_ANNIVERSARYY\")\n",
    "\n",
    "  if weak_reasons:\n",
    "    return \"Weak\", weak_reasons\n",
    "  else:\n",
    "    return \"Strong\", []"
   ]
  },
  {
   "cell_type": "markdown",
   "id": "c87dba5e-41d5-4317-9eaf-6a988c4b07e8",
   "metadata": {},
   "source": [
    "4:-  Part E: \n",
    "-Here we have a function to check for common 6-digit patterns.\n",
    "-This code specifically assesses the strength of 6-digit PINs, checks for common 6-digit patterns, and determines the strength and reasons accordingly."
   ]
  },
  {
   "cell_type": "code",
   "execution_count": 5,
   "id": "7fbd77d6-1935-4ad0-90d6-691a8dbedbf4",
   "metadata": {},
   "outputs": [],
   "source": [
    "def is_common_pin_6digit(pin):\n",
    "  common_pins_6digit = [\n",
    "      \"111111\", \"123456\", \"654321\", \"777777\", \"121212\", \n",
    "      \"000000\", \"111111\", \"222222\", \"333333\", \"444444\", \n",
    "      \"555555\", \"666666\", \"777777\", \"888888\", \"999999\",\n",
    "      \"123123\", \"121212\", \"010101\"] \n",
    "  return pin in common_pins_6digit \n",
    "\n",
    "def assess_pin_strength_6digit(pin, dob_self, dob_spouse, anniversary):\n",
    "  weak_reasons = []\n",
    "\n",
    "  if is_common_pin_6digit(pin):\n",
    "    weak_reasons.append(\"COMMONLY_USED\")\n",
    "\n",
    "  if pin in dob_self:\n",
    "    weak_reasons.append(\"DEMOGRAPHIC_DOB_SELF\")\n",
    "\n",
    "  if pin in dob_spouse:\n",
    "    weak_reasons.append(\"DEMOGRAPHIC_DOB_SPOUSE\")\n",
    "\n",
    "  if pin in anniversary:\n",
    "    weak_reasons.append(\"DEMOGRAPHIC_ANNIVERSARY\")\n",
    "\n",
    "  if weak_reasons:\n",
    "    return \"WEAK\", weak_reasons\n",
    "  else:\n",
    "    return \"STRONG\", []"
   ]
  },
  {
   "cell_type": "markdown",
   "id": "5e4af48e-49c4-44c4-9fcb-d3210f78840c",
   "metadata": {},
   "source": [
    "5:-\n",
    "Purpose\n",
    "       -Test the MPIN strength checker.\n",
    "       -Make sure it correctly identifies weak and strong PINs.\n",
    "Testing Approach\n",
    "            -Here we have tested Weak PINs, Demographic matches, Strong PINs, PINs with multiple weaknesses, edge cases to ensure robust behavior.\n",
    "            -Each test case has a PIN,Demographic inputs (user DOB, spouse DOB, anniversary),Expected result (strength and reasons).\n",
    "            -The code compares the actual output to the expected result.\n",
    "Execution\n",
    "          We have run_pin_tests() function, it runs for atleast 20 test cases and prints \"All test cases passed!\" if everything works as expected.\n"
   ]
  },
  {
   "cell_type": "code",
   "execution_count": 60,
   "id": "513611d6-d0b4-4d8d-9098-0afa0d2ae12d",
   "metadata": {},
   "outputs": [
    {
     "name": "stdout",
     "output_type": "stream",
     "text": [
      "All test cases passed!\n"
     ]
    }
   ],
   "source": [
    "def is_common_pin(pin):\n",
    "    common_pins = set([\n",
    "        \"1111\", \"1234\", \"4321\", \"7777\", \"1212\", \"2020\", \"0000\", \"1122\", \"2211\",\n",
    "        \"3333\", \"4444\", \"5555\", \"6666\", \"8888\", \"9999\", \"1010\", \"1100\", \"1001\",\n",
    "        \"2002\", \"3003\", \"9876\", \"9990\", \"1221\", \"2112\",\"0101\"\n",
    "    ])\n",
    "    return pin in common_pins\n",
    "\n",
    "def is_common_pin_6digit(pin):\n",
    "    common_pins_6digit = set([\n",
    "        \"111111\", \"123456\", \"654321\", \"777777\", \"121212\", \n",
    "        \"000000\", \"222222\", \"333333\", \"444444\", \"555555\", \n",
    "        \"666666\", \"888888\", \"999999\", \"123123\", \"010101\"\n",
    "    ])\n",
    "    return pin in common_pins_6digit\n",
    "\n",
    "def assess_pin_strength(pin, dob_self, dob_spouse, anniversary):\n",
    "    pin = str(pin)  # Ensure PIN is always treated as a string\n",
    "    weak_reasons = []\n",
    "\n",
    "    if len(pin) == 4:\n",
    "        if is_common_pin(pin):\n",
    "            weak_reasons.append(\"COMMONLY_USED\")\n",
    "    elif len(pin) == 6:\n",
    "        if is_common_pin_6digit(pin):\n",
    "            weak_reasons.append(\"COMMONLY_USED\")\n",
    "\n",
    "    if pin in dob_self:\n",
    "        weak_reasons.append(\"DEMOGRAPHIC_DOB_SELF\")\n",
    "\n",
    "    if pin in dob_spouse:\n",
    "        weak_reasons.append(\"DEMOGRAPHIC_DOB_SPOUSE\")\n",
    "\n",
    "    if pin in anniversary:\n",
    "        weak_reasons.append(\"DEMOGRAPHIC_ANNIVERSARY\")\n",
    "\n",
    "    return (\"WEAK\", weak_reasons) if weak_reasons else (\"STRONG\", [])\n",
    "\n",
    "\n",
    "def run_pin_tests():\n",
    "    test_cases = [\n",
    "        # 4-digit weak cases\n",
    "        (\"1234\", [\"0101\"], [\"1506\"], [\"0704\"], \"WEAK\", [\"COMMONLY_USED\"]),\n",
    "        (\"1111\", [], [], [], \"WEAK\", [\"COMMONLY_USED\"]),\n",
    "        (\"0000\", [\"0000\"], [], [], \"WEAK\", [\"COMMONLY_USED\", \"DEMOGRAPHIC_DOB_SELF\"]),\n",
    "        (\"1212\", [], [\"1212\"], [], \"WEAK\", [\"COMMONLY_USED\", \"DEMOGRAPHIC_DOB_SPOUSE\"]),\n",
    "        (\"3003\", [], [], [\"3003\"], \"WEAK\", [\"COMMONLY_USED\", \"DEMOGRAPHIC_ANNIVERSARY\"]),\n",
    "        \n",
    "        # 4-digit strong cases\n",
    "        (\"2468\", [], [], [], \"STRONG\", []),\n",
    "        (\"5678\", [\"1234\"], [\"8765\"], [\"1010\"], \"STRONG\", []),\n",
    "        \n",
    "        # 6-digit weak cases\n",
    "        (\"123456\", [\"123456\"], [], [], \"WEAK\", [\"COMMONLY_USED\", \"DEMOGRAPHIC_DOB_SELF\"]),\n",
    "        (\"111111\", [], [], [], \"WEAK\", [\"COMMONLY_USED\"]),\n",
    "        (\"654321\", [], [\"654321\"], [], \"WEAK\", [\"COMMONLY_USED\", \"DEMOGRAPHIC_DOB_SPOUSE\"]),\n",
    "        (\"121212\", [], [], [\"121212\"], \"WEAK\", [\"COMMONLY_USED\", \"DEMOGRAPHIC_ANNIVERSARY\"]),\n",
    "        \n",
    "        # 6-digit strong cases\n",
    "        (\"246810\", [], [], [], \"STRONG\", []),\n",
    "        (\"135790\", [], [\"246810\"], [], \"STRONG\", []),\n",
    "        \n",
    "        # Multiple weaknesses\n",
    "        (\"0101\", [\"0101\"], [\"0101\"], [\"0101\"], \"WEAK\", [\"COMMONLY_USED\", \"DEMOGRAPHIC_DOB_SELF\", \"DEMOGRAPHIC_DOB_SPOUSE\", \"DEMOGRAPHIC_ANNIVERSARY\"]),\n",
    "        (\"0704\", [], [\"0704\"], [\"0704\"], \"WEAK\", [\"DEMOGRAPHIC_DOB_SPOUSE\", \"DEMOGRAPHIC_ANNIVERSARY\"]),\n",
    "        \n",
    "        # Edge cases\n",
    "        (\"9999\", [\"9999\"], [], [], \"WEAK\", [\"COMMONLY_USED\", \"DEMOGRAPHIC_DOB_SELF\"]),  # Fixed expectation\n",
    "        (\"5555\", [], [], [], \"WEAK\", [\"COMMONLY_USED\"]),\n",
    "        (\"000001\", [\"000001\"], [], [], \"WEAK\", [\"DEMOGRAPHIC_DOB_SELF\"]),\n",
    "        (\"987654\", [], [], [], \"STRONG\", []),\n",
    "        (\"010203\", [], [], [], \"STRONG\", []),\n",
    "    ]\n",
    "\n",
    "    for pin, dob_self, dob_spouse, anniversary, expected_strength, expected_reasons in test_cases:\n",
    "        if len(pin) == 4:\n",
    "            result = assess_pin_strength(pin, dob_self, dob_spouse, anniversary)\n",
    "        elif len(pin) == 6:\n",
    "            result = assess_pin_strength(pin, dob_self, dob_spouse, anniversary)\n",
    "        else:\n",
    "            print(f\"Invalid PIN length: {pin}\")\n",
    "            continue\n",
    "\n",
    "        assert result[0] == expected_strength, f\"Failed for PIN {pin}: Expected {expected_strength}, got {result[0]}\"\n",
    "        assert result[1] == expected_reasons, f\"Failed for PIN {pin}: Expected reasons {expected_reasons}, got {result[1]}\"\n",
    "\n",
    "    print(\"All test cases passed!\")\n",
    "\n",
    "\n",
    "run_pin_tests()\n"
   ]
  },
  {
   "cell_type": "code",
   "execution_count": null,
   "id": "24a51910-2341-4063-8089-306d18d150de",
   "metadata": {},
   "outputs": [],
   "source": []
  }
 ],
 "metadata": {
  "kernelspec": {
   "display_name": "Python 3 (ipykernel)",
   "language": "python",
   "name": "python3"
  },
  "language_info": {
   "codemirror_mode": {
    "name": "ipython",
    "version": 3
   },
   "file_extension": ".py",
   "mimetype": "text/x-python",
   "name": "python",
   "nbconvert_exporter": "python",
   "pygments_lexer": "ipython3",
   "version": "3.12.4"
  }
 },
 "nbformat": 4,
 "nbformat_minor": 5
}
